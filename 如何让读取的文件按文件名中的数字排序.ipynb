{
 "cells": [
  {
   "cell_type": "code",
   "execution_count": null,
   "id": "3c97e626",
   "metadata": {},
   "outputs": [],
   "source": [
    "import os\n",
    "path = r\"F:\\jupyter\\pytorch\\data\\37class\\srcData\"\n",
    "files=os.listdir(path) \n",
    "files.sort(key=lambda x:int(x[4:]))\n",
    "for i in files:\n",
    "    print(i)"
   ]
  }
 ],
 "metadata": {
  "kernelspec": {
   "display_name": "Python 3",
   "language": "python",
   "name": "python3"
  },
  "language_info": {
   "codemirror_mode": {
    "name": "ipython",
    "version": 3
   },
   "file_extension": ".py",
   "mimetype": "text/x-python",
   "name": "python",
   "nbconvert_exporter": "python",
   "pygments_lexer": "ipython3",
   "version": "3.7.10"
  }
 },
 "nbformat": 4,
 "nbformat_minor": 5
}
