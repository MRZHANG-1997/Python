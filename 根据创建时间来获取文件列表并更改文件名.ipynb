{
 "cells": [
  {
   "cell_type": "code",
   "execution_count": null,
   "id": "39fdfd3c",
   "metadata": {},
   "outputs": [],
   "source": [
    "def get_file_list(file_path):\n",
    "    dir_list = os.listdir(file_path)\n",
    "    if not dir_list:\n",
    "        return\n",
    "    else:\n",
    "        dir_list = sorted(dir_list,key=lambda x: os.path.getctime(os.path.join(file_path, x)))\n",
    "        return dir_list\n",
    "import os\n",
    "\n",
    "url=r'G:\\save'\n",
    "filepath=get_file_list(url)\n",
    "a=149\n",
    "for i in range(len(filepath)):\n",
    "    path1=os.path.join(url,filepath[i])\n",
    "    new_name=str(a)+filepath[i]\n",
    "#     b=os.path.join(path1)\n",
    "    c=os.path.join(url + \"\\\\\" +new_name)\n",
    "    os.rename(path1, c)\n",
    "    a=a+1\n",
    "    print(path1)"
   ]
  }
 ],
 "metadata": {
  "kernelspec": {
   "display_name": "Python 3",
   "language": "python",
   "name": "python3"
  },
  "language_info": {
   "codemirror_mode": {
    "name": "ipython",
    "version": 3
   },
   "file_extension": ".py",
   "mimetype": "text/x-python",
   "name": "python",
   "nbconvert_exporter": "python",
   "pygments_lexer": "ipython3",
   "version": "3.7.10"
  }
 },
 "nbformat": 4,
 "nbformat_minor": 5
}
