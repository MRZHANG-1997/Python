{
 "cells": [
  {
   "cell_type": "code",
   "execution_count": null,
   "id": "a0cb8aa7",
   "metadata": {},
   "outputs": [],
   "source": [
    "import cv2\n",
    "import os\n",
    "import glob\n",
    "path = r\"G:\\save\"\n",
    "files = os.listdir(path) \n",
    "i=0\n",
    "for sub_dir in files:\n",
    "#     i=0\n",
    "#     a = os.path.splitext(sub_dir)\n",
    "    newname=\"photo\"+str(i)\n",
    "#     print(a)\n",
    "    os.rename(path+\"\\\\\"+sub_dir,path+\"\\\\\"+newname)\n",
    "    i=i+1"
   ]
  }
 ],
 "metadata": {
  "kernelspec": {
   "display_name": "Python 3",
   "language": "python",
   "name": "python3"
  },
  "language_info": {
   "codemirror_mode": {
    "name": "ipython",
    "version": 3
   },
   "file_extension": ".py",
   "mimetype": "text/x-python",
   "name": "python",
   "nbconvert_exporter": "python",
   "pygments_lexer": "ipython3",
   "version": "3.7.10"
  }
 },
 "nbformat": 4,
 "nbformat_minor": 5
}
